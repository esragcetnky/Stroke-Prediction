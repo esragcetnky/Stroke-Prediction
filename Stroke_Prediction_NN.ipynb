{
  "nbformat": 4,
  "nbformat_minor": 0,
  "metadata": {
    "colab": {
      "name": "Stroke Prediction_NN.ipynb",
      "provenance": [],
      "collapsed_sections": [],
      "toc_visible": true,
      "authorship_tag": "ABX9TyPFa8MN04GHZ4c0JT23LAoi",
      "include_colab_link": true
    },
    "kernelspec": {
      "name": "python3",
      "display_name": "Python 3"
    }
  },
  "cells": [
    {
      "cell_type": "markdown",
      "metadata": {
        "id": "view-in-github",
        "colab_type": "text"
      },
      "source": [
        "<a href=\"https://colab.research.google.com/github/esragcetnky/Stroke-Prediction/blob/main/Stroke_Prediction_NN.ipynb\" target=\"_parent\"><img src=\"https://colab.research.google.com/assets/colab-badge.svg\" alt=\"Open In Colab\"/></a>"
      ]
    },
    {
      "cell_type": "markdown",
      "metadata": {
        "id": "Be2Z_tiRFEKu"
      },
      "source": [
        "# 0.Connect to Drive\n"
      ]
    },
    {
      "cell_type": "code",
      "metadata": {
        "id": "j14ICHUx4BMI",
        "colab": {
          "base_uri": "https://localhost:8080/"
        },
        "outputId": "bd0746a9-bffe-4042-ecf3-e0288134ea7c"
      },
      "source": [
        "from google.colab import drive\n",
        "drive.mount('/content/drive')"
      ],
      "execution_count": 5,
      "outputs": [
        {
          "output_type": "stream",
          "text": [
            "Mounted at /content/drive\n"
          ],
          "name": "stdout"
        }
      ]
    },
    {
      "cell_type": "markdown",
      "metadata": {
        "id": "Bv98ObTAFh7y"
      },
      "source": [
        "# 1.Connect Kaggle API"
      ]
    },
    {
      "cell_type": "code",
      "metadata": {
        "id": "DyK0LAE_Fk55"
      },
      "source": [
        "import os\n",
        "os.environ['KAGGLE_CONFIG_DIR'] = \"/content/drive/My Drive/Kaggle\"\n",
        "# /content/drive/My Drive/Kaggle is the path where kaggle.json is present in the Google Drive"
      ],
      "execution_count": null,
      "outputs": []
    },
    {
      "cell_type": "markdown",
      "metadata": {
        "id": "iw8IJqwbGTzv"
      },
      "source": [
        "* let's check working directory"
      ]
    },
    {
      "cell_type": "code",
      "metadata": {
        "colab": {
          "base_uri": "https://localhost:8080/"
        },
        "id": "eeVQ0cLFGY08",
        "outputId": "91708261-408e-48b8-aa68-042529afffcb"
      },
      "source": [
        "!pwd"
      ],
      "execution_count": null,
      "outputs": [
        {
          "output_type": "stream",
          "text": [
            "/content\n"
          ],
          "name": "stdout"
        }
      ]
    },
    {
      "cell_type": "markdown",
      "metadata": {
        "id": "uV9fYZl-GaG_"
      },
      "source": [
        "* i wanna create new folder and i want to work inside that folder"
      ]
    },
    {
      "cell_type": "code",
      "metadata": {
        "colab": {
          "base_uri": "https://localhost:8080/"
        },
        "id": "7Ejta4VcGjr6",
        "outputId": "277cf07f-b710-4e9f-882b-5ce0b92f0da9"
      },
      "source": [
        "%cd /content/drive/My Drive/"
      ],
      "execution_count": null,
      "outputs": [
        {
          "output_type": "stream",
          "text": [
            "/content/drive/My Drive\n"
          ],
          "name": "stdout"
        }
      ]
    },
    {
      "cell_type": "code",
      "metadata": {
        "id": "Zo51_vNtHD7g"
      },
      "source": [
        "# creates new folder\n",
        "%mkdir Stroke_Prediction"
      ],
      "execution_count": null,
      "outputs": []
    },
    {
      "cell_type": "code",
      "metadata": {
        "colab": {
          "base_uri": "https://localhost:8080/"
        },
        "id": "m_3ZTPYWH9gM",
        "outputId": "5ca1c333-40f8-4b93-e137-1cf31efb9c84"
      },
      "source": [
        "%cd Stroke_Prediction"
      ],
      "execution_count": null,
      "outputs": [
        {
          "output_type": "stream",
          "text": [
            "/content/drive/My Drive/Stroke_Prediction\n"
          ],
          "name": "stdout"
        }
      ]
    },
    {
      "cell_type": "code",
      "metadata": {
        "colab": {
          "base_uri": "https://localhost:8080/",
          "height": 35
        },
        "id": "G5iGNIZ7IHBe",
        "outputId": "e40d9cfb-e9f7-48e8-dbaa-8bb879a7a0a4"
      },
      "source": [
        "pwd"
      ],
      "execution_count": null,
      "outputs": [
        {
          "output_type": "execute_result",
          "data": {
            "application/vnd.google.colaboratory.intrinsic+json": {
              "type": "string"
            },
            "text/plain": [
              "'/content/drive/My Drive/Stroke_Prediction'"
            ]
          },
          "metadata": {
            "tags": []
          },
          "execution_count": 18
        }
      ]
    },
    {
      "cell_type": "markdown",
      "metadata": {
        "id": "zPJazfADFaaz"
      },
      "source": [
        "# 2.Import Dataset\n",
        "* Dataset is from Kaggle: https://www.kaggle.com/fedesoriano/stroke-prediction-dataset\n"
      ]
    },
    {
      "cell_type": "code",
      "metadata": {
        "colab": {
          "base_uri": "https://localhost:8080/"
        },
        "id": "8IPtNtn3Fc-A",
        "outputId": "f0a1fd3a-e9ec-456d-efcc-c88b1badc281"
      },
      "source": [
        "!kaggle datasets download -d fedesoriano/stroke-prediction-dataset"
      ],
      "execution_count": null,
      "outputs": [
        {
          "output_type": "stream",
          "text": [
            "stroke-prediction-dataset.zip: Skipping, found more recently modified local copy (use --force to force download)\n"
          ],
          "name": "stdout"
        }
      ]
    },
    {
      "cell_type": "markdown",
      "metadata": {
        "id": "Ddb7pwGDIqFr"
      },
      "source": [
        "* data is in zip file we need to unzip and remove to zip file"
      ]
    },
    {
      "cell_type": "code",
      "metadata": {
        "colab": {
          "base_uri": "https://localhost:8080/"
        },
        "id": "qgkx8veEISSb",
        "outputId": "66fb47af-6e8c-4e3a-fb84-89e23e83bbf6"
      },
      "source": [
        "#unzipping the zip files and deleting the zip files\n",
        "!unzip \\*.zip  && rm *.zip"
      ],
      "execution_count": null,
      "outputs": [
        {
          "output_type": "stream",
          "text": [
            "Archive:  stroke-prediction-dataset.zip\n",
            "  inflating: healthcare-dataset-stroke-data.csv  \n"
          ],
          "name": "stdout"
        }
      ]
    },
    {
      "cell_type": "code",
      "metadata": {
        "colab": {
          "base_uri": "https://localhost:8080/"
        },
        "id": "ZuRVbYhRI6tB",
        "outputId": "cfcc303d-6a76-4780-9e21-bc1bd838db74"
      },
      "source": [
        "!ls # data is ready, now it is time to import libraries"
      ],
      "execution_count": null,
      "outputs": [
        {
          "output_type": "stream",
          "text": [
            "healthcare-dataset-stroke-data.csv\n"
          ],
          "name": "stdout"
        }
      ]
    },
    {
      "cell_type": "markdown",
      "metadata": {
        "id": "yiqCTMIgJIoR"
      },
      "source": [
        "# 3.Import Libraries"
      ]
    },
    {
      "cell_type": "code",
      "metadata": {
        "id": "z4c1M5woI9RS"
      },
      "source": [
        "# at first these 3 libraries are enough,\n",
        "# when trying to build model, i will add other necessary libraries\n",
        "import pandas as pd\n",
        "import numpy as np\n",
        "import matplotlib.pyplot as plt"
      ],
      "execution_count": 11,
      "outputs": []
    },
    {
      "cell_type": "code",
      "metadata": {
        "id": "XYv9_4jKKfMC"
      },
      "source": [
        "# let's read our data\n",
        "data= pd.read_csv('healthcare-dataset-stroke-data.csv')"
      ],
      "execution_count": null,
      "outputs": []
    },
    {
      "cell_type": "markdown",
      "metadata": {
        "id": "ywDfku0PLR5M"
      },
      "source": [
        "# 4.Analyzing and Understanding Dataset"
      ]
    },
    {
      "cell_type": "markdown",
      "metadata": {
        "id": "Q7FbqCMTMyXP"
      },
      "source": [
        "* let's put data to dataframe"
      ]
    },
    {
      "cell_type": "code",
      "metadata": {
        "id": "MnyjaBTOM3Mh"
      },
      "source": [
        "dataframe=pd.DataFrame(data)"
      ],
      "execution_count": 12,
      "outputs": []
    },
    {
      "cell_type": "code",
      "metadata": {
        "colab": {
          "base_uri": "https://localhost:8080/"
        },
        "id": "Jo8-dzeRLaAB",
        "outputId": "91c7b27c-b87d-4b8c-b4ef-fbff2f30a54b"
      },
      "source": [
        "dataframe.shape"
      ],
      "execution_count": 13,
      "outputs": [
        {
          "output_type": "execute_result",
          "data": {
            "text/plain": [
              "(5110, 12)"
            ]
          },
          "metadata": {
            "tags": []
          },
          "execution_count": 13
        }
      ]
    },
    {
      "cell_type": "markdown",
      "metadata": {
        "id": "KUkNrnoNLixn"
      },
      "source": [
        "* So we have 12 features and 5110 samples in our datasets.\n",
        "* One of the 12 features is the label\n",
        "\n",
        "Let's see the names of features"
      ]
    },
    {
      "cell_type": "code",
      "metadata": {
        "colab": {
          "base_uri": "https://localhost:8080/"
        },
        "id": "pSnQL_-CKegL",
        "outputId": "8ca444f4-c688-4c5d-f5e4-7840eb5236ae"
      },
      "source": [
        "dataframe.columns"
      ],
      "execution_count": 14,
      "outputs": [
        {
          "output_type": "execute_result",
          "data": {
            "text/plain": [
              "Index(['id', 'gender', 'age', 'hypertension', 'heart_disease', 'ever_married',\n",
              "       'work_type', 'Residence_type', 'avg_glucose_level', 'bmi',\n",
              "       'smoking_status', 'stroke'],\n",
              "      dtype='object')"
            ]
          },
          "metadata": {
            "tags": []
          },
          "execution_count": 14
        }
      ]
    },
    {
      "cell_type": "code",
      "metadata": {
        "colab": {
          "base_uri": "https://localhost:8080/",
          "height": 204
        },
        "id": "sZPV0vkHLQao",
        "outputId": "556ed929-563f-42df-a8ec-b73383d7cdba"
      },
      "source": [
        "# let's see the top 5 sample, so we can understand dataset better\n",
        "dataframe.head()"
      ],
      "execution_count": 15,
      "outputs": [
        {
          "output_type": "execute_result",
          "data": {
            "text/html": [
              "<div>\n",
              "<style scoped>\n",
              "    .dataframe tbody tr th:only-of-type {\n",
              "        vertical-align: middle;\n",
              "    }\n",
              "\n",
              "    .dataframe tbody tr th {\n",
              "        vertical-align: top;\n",
              "    }\n",
              "\n",
              "    .dataframe thead th {\n",
              "        text-align: right;\n",
              "    }\n",
              "</style>\n",
              "<table border=\"1\" class=\"dataframe\">\n",
              "  <thead>\n",
              "    <tr style=\"text-align: right;\">\n",
              "      <th></th>\n",
              "      <th>id</th>\n",
              "      <th>gender</th>\n",
              "      <th>age</th>\n",
              "      <th>hypertension</th>\n",
              "      <th>heart_disease</th>\n",
              "      <th>ever_married</th>\n",
              "      <th>work_type</th>\n",
              "      <th>Residence_type</th>\n",
              "      <th>avg_glucose_level</th>\n",
              "      <th>bmi</th>\n",
              "      <th>smoking_status</th>\n",
              "      <th>stroke</th>\n",
              "    </tr>\n",
              "  </thead>\n",
              "  <tbody>\n",
              "    <tr>\n",
              "      <th>0</th>\n",
              "      <td>9046</td>\n",
              "      <td>Male</td>\n",
              "      <td>67.0</td>\n",
              "      <td>0</td>\n",
              "      <td>1</td>\n",
              "      <td>Yes</td>\n",
              "      <td>Private</td>\n",
              "      <td>Urban</td>\n",
              "      <td>228.69</td>\n",
              "      <td>36.6</td>\n",
              "      <td>formerly smoked</td>\n",
              "      <td>1</td>\n",
              "    </tr>\n",
              "    <tr>\n",
              "      <th>1</th>\n",
              "      <td>51676</td>\n",
              "      <td>Female</td>\n",
              "      <td>61.0</td>\n",
              "      <td>0</td>\n",
              "      <td>0</td>\n",
              "      <td>Yes</td>\n",
              "      <td>Self-employed</td>\n",
              "      <td>Rural</td>\n",
              "      <td>202.21</td>\n",
              "      <td>NaN</td>\n",
              "      <td>never smoked</td>\n",
              "      <td>1</td>\n",
              "    </tr>\n",
              "    <tr>\n",
              "      <th>2</th>\n",
              "      <td>31112</td>\n",
              "      <td>Male</td>\n",
              "      <td>80.0</td>\n",
              "      <td>0</td>\n",
              "      <td>1</td>\n",
              "      <td>Yes</td>\n",
              "      <td>Private</td>\n",
              "      <td>Rural</td>\n",
              "      <td>105.92</td>\n",
              "      <td>32.5</td>\n",
              "      <td>never smoked</td>\n",
              "      <td>1</td>\n",
              "    </tr>\n",
              "    <tr>\n",
              "      <th>3</th>\n",
              "      <td>60182</td>\n",
              "      <td>Female</td>\n",
              "      <td>49.0</td>\n",
              "      <td>0</td>\n",
              "      <td>0</td>\n",
              "      <td>Yes</td>\n",
              "      <td>Private</td>\n",
              "      <td>Urban</td>\n",
              "      <td>171.23</td>\n",
              "      <td>34.4</td>\n",
              "      <td>smokes</td>\n",
              "      <td>1</td>\n",
              "    </tr>\n",
              "    <tr>\n",
              "      <th>4</th>\n",
              "      <td>1665</td>\n",
              "      <td>Female</td>\n",
              "      <td>79.0</td>\n",
              "      <td>1</td>\n",
              "      <td>0</td>\n",
              "      <td>Yes</td>\n",
              "      <td>Self-employed</td>\n",
              "      <td>Rural</td>\n",
              "      <td>174.12</td>\n",
              "      <td>24.0</td>\n",
              "      <td>never smoked</td>\n",
              "      <td>1</td>\n",
              "    </tr>\n",
              "  </tbody>\n",
              "</table>\n",
              "</div>"
            ],
            "text/plain": [
              "      id  gender   age  ...   bmi   smoking_status stroke\n",
              "0   9046    Male  67.0  ...  36.6  formerly smoked      1\n",
              "1  51676  Female  61.0  ...   NaN     never smoked      1\n",
              "2  31112    Male  80.0  ...  32.5     never smoked      1\n",
              "3  60182  Female  49.0  ...  34.4           smokes      1\n",
              "4   1665  Female  79.0  ...  24.0     never smoked      1\n",
              "\n",
              "[5 rows x 12 columns]"
            ]
          },
          "metadata": {
            "tags": []
          },
          "execution_count": 15
        }
      ]
    },
    {
      "cell_type": "markdown",
      "metadata": {
        "id": "4QsYRZNJMbz8"
      },
      "source": [
        "# 5.Visualize Dataset"
      ]
    },
    {
      "cell_type": "markdown",
      "metadata": {
        "id": "UPxspLbBNKHu"
      },
      "source": [
        "* visualizing data is really helpful\n",
        "* it can give better understanding relations between features\n",
        "\n",
        "\n",
        "Matplotlib library will be used for visualization\n",
        "\n",
        "First, i wanna check on distributions"
      ]
    },
    {
      "cell_type": "code",
      "metadata": {
        "id": "pSdld3qoYNbS"
      },
      "source": [
        "plt.style.use('seaborn-darkgrid')"
      ],
      "execution_count": 16,
      "outputs": []
    },
    {
      "cell_type": "markdown",
      "metadata": {
        "id": "Tf3Wm2-5MJSe"
      },
      "source": [
        "## *Histogram Plot*"
      ]
    },
    {
      "cell_type": "code",
      "metadata": {
        "colab": {
          "base_uri": "https://localhost:8080/",
          "height": 523
        },
        "id": "lpQ62X1hMbjJ",
        "outputId": "484e98da-e18c-4a41-9065-382462b46dc2"
      },
      "source": [
        "fig, (ax0,ax1,ax2)=plt.subplots(nrows=1,\n",
        "                                ncols=3,\n",
        "                                figsize=(30,10))\n",
        "\n",
        "# AGE DISTRIBUTION \n",
        "ax0.hist(dataframe['age'],\n",
        "         bins=15,\n",
        "         color='blue')\n",
        "ax0.set_ylim([200,500])\n",
        "ax0.set_xlim([0,80])\n",
        "ax0.set_xlabel('Age')\n",
        "ax0.set_title('Age distribution')\n",
        "\n",
        "# AVG GLUCOSE LEVEL DISTRIBUTION\n",
        "ax1.hist(dataframe['avg_glucose_level'],\n",
        "         bins=25)\n",
        "ax1.set_xlabel('Average Glucose Level')\n",
        "ax1.set_xlim([50,250])\n",
        "ax1.set_title('Average Glucose Level distribution')\n",
        "\n",
        "# BMI DISTRIBUTION\n",
        "ax2.hist(dataframe['bmi'],\n",
        "         bins=25,\n",
        "         color='green')\n",
        "ax2.set_xlabel('Bmi')\n",
        "ax2.set_ylim([0,1000])\n",
        "ax2.set_xlim([10,60])\n",
        "ax2.set_title('Bmi distribution')\n",
        "\n",
        "fig.show()"
      ],
      "execution_count": 17,
      "outputs": [
        {
          "output_type": "display_data",
          "data": {
            "image/png": "[encoded data removed]",
            "text/plain": [
              "<Figure size 2160x720 with 3 Axes>"
            ]
          },
          "metadata": {
            "tags": []
          }
        }
      ]
    },
    {
      "cell_type": "markdown",
      "metadata": {
        "id": "1WvjuA0hMOy9"
      },
      "source": [
        "## *Pie Chart*"
      ]
    },
    {
      "cell_type": "code",
      "metadata": {
        "id": "Bh09ZrDGMvaJ",
        "colab": {
          "base_uri": "https://localhost:8080/",
          "height": 846
        },
        "outputId": "f5f26aad-b540-4051-d1ca-56360930201a"
      },
      "source": [
        "fig, ((ax0,ax1),(ax2,ax3))=plt.subplots(nrows=2,\n",
        "                                       ncols=2,\n",
        "                                       figsize=(15, 15))\n",
        "def label_function(val):\n",
        "    return f'{val / 100 * len(dataframe):.0f}\\n{val:.0f}%'\n",
        "\n",
        "# EVER MARRIED\n",
        "dataframe.groupby('ever_married').size().plot(kind='pie', \n",
        "                                              autopct=label_function,\n",
        "                                              textprops={'fontsize': 15},\n",
        "                                              ax=ax0)\n",
        "ax0.set_ylabel('Ever Married',size=15)\n",
        "\n",
        "# GENDER\n",
        "dataframe.groupby('gender').size().plot(kind='pie', \n",
        "                                      autopct=label_function, \n",
        "                                      textprops={'fontsize': 15},\n",
        "                                      colors=['violet', 'lime','tomato'],\n",
        "                                      ax=ax1)\n",
        "ax1.set_ylabel('Per gender',size=15)\n",
        "\n",
        "# SMOKING STATUS\n",
        "dataframe.groupby('smoking_status').size().plot(kind='pie',\n",
        "                                                 autopct=label_function, \n",
        "                                                 textprops={'fontsize': 15},\n",
        "                                                 colors=['tomato', 'gold','violet','lime'],\n",
        "                                                 ax=ax2)\n",
        "ax2.set_ylabel('Smoking Status',size=15)\n",
        "\n",
        "# RESIDENCE TYPE \n",
        "dataframe.groupby('Residence_type').size().plot(kind='pie',\n",
        "                                                 autopct=label_function, \n",
        "                                                 textprops={'fontsize': 15},\n",
        "                                                 ax=ax3)                                         \n",
        "ax3.set_ylabel('Residence Type',size=15)\n",
        "\n",
        "# showing the figure\n",
        "fig.show()"
      ],
      "execution_count": 18,
      "outputs": [
        {
          "output_type": "display_data",
          "data": {
            "image/png": "[encoded data removed]",
            "text/plain": [
              "<Figure size 1080x1080 with 4 Axes>"
            ]
          },
          "metadata": {
            "tags": []
          }
        }
      ]
    },
    {
      "cell_type": "markdown",
      "metadata": {
        "id": "u54ZHpyvDM7O"
      },
      "source": [
        "# 6.Split and Formatting Data"
      ]
    },
    {
      "cell_type": "markdown",
      "metadata": {
        "id": "ls2XtSuCL--H"
      },
      "source": [
        "## *Creating dummy variables*"
      ]
    },
    {
      "cell_type": "markdown",
      "metadata": {
        "id": "lU2RNVjnD2do"
      },
      "source": [
        "* when training model, cant use string values so that is why i am creating dummy variables"
      ]
    },
    {
      "cell_type": "code",
      "metadata": {
        "id": "Ma75WIg9DRp2"
      },
      "source": [
        "# creating dummy variables\n",
        "def dummy_creation(dataset,dummy_categories):\n",
        "  for i in dummy_categories:\n",
        "    dataset_dummy=pd.get_dummies(dataset[i])\n",
        "    dataset=pd.concat([dataset,dataset_dummy],\n",
        "                      axis=1)\n",
        "    dataset=dataset.drop(i,axis=1)\n",
        "  return dataset"
      ],
      "execution_count": 19,
      "outputs": []
    },
    {
      "cell_type": "code",
      "metadata": {
        "id": "Qcdz4niLEM6d"
      },
      "source": [
        "dataframe=dummy_creation(dataframe, ['gender','ever_married','work_type','Residence_type','smoking_status'])"
      ],
      "execution_count": 20,
      "outputs": []
    },
    {
      "cell_type": "markdown",
      "metadata": {
        "id": "nQASWigGL10l"
      },
      "source": [
        "## *Dropping useless columns*\n"
      ]
    },
    {
      "cell_type": "markdown",
      "metadata": {
        "id": "oM2jvT2hGUdp"
      },
      "source": [
        "* i dont need id column, so dropped that column"
      ]
    },
    {
      "cell_type": "code",
      "metadata": {
        "id": "mAMKUmxEFYzo"
      },
      "source": [
        "dataframe=dataframe.drop(columns='id')"
      ],
      "execution_count": 21,
      "outputs": []
    },
    {
      "cell_type": "code",
      "metadata": {
        "colab": {
          "base_uri": "https://localhost:8080/",
          "height": 456
        },
        "id": "oe_1EhrcF4Fg",
        "outputId": "e644dff1-2d02-4cf1-fdfd-b0a7689ef57e"
      },
      "source": [
        "dataframe"
      ],
      "execution_count": 22,
      "outputs": [
        {
          "output_type": "execute_result",
          "data": {
            "text/html": [
              "<div>\n",
              "<style scoped>\n",
              "    .dataframe tbody tr th:only-of-type {\n",
              "        vertical-align: middle;\n",
              "    }\n",
              "\n",
              "    .dataframe tbody tr th {\n",
              "        vertical-align: top;\n",
              "    }\n",
              "\n",
              "    .dataframe thead th {\n",
              "        text-align: right;\n",
              "    }\n",
              "</style>\n",
              "<table border=\"1\" class=\"dataframe\">\n",
              "  <thead>\n",
              "    <tr style=\"text-align: right;\">\n",
              "      <th></th>\n",
              "      <th>age</th>\n",
              "      <th>hypertension</th>\n",
              "      <th>heart_disease</th>\n",
              "      <th>avg_glucose_level</th>\n",
              "      <th>bmi</th>\n",
              "      <th>stroke</th>\n",
              "      <th>Female</th>\n",
              "      <th>Male</th>\n",
              "      <th>Other</th>\n",
              "      <th>No</th>\n",
              "      <th>Yes</th>\n",
              "      <th>Govt_job</th>\n",
              "      <th>Never_worked</th>\n",
              "      <th>Private</th>\n",
              "      <th>Self-employed</th>\n",
              "      <th>children</th>\n",
              "      <th>Rural</th>\n",
              "      <th>Urban</th>\n",
              "      <th>Unknown</th>\n",
              "      <th>formerly smoked</th>\n",
              "      <th>never smoked</th>\n",
              "      <th>smokes</th>\n",
              "    </tr>\n",
              "  </thead>\n",
              "  <tbody>\n",
              "    <tr>\n",
              "      <th>0</th>\n",
              "      <td>67.0</td>\n",
              "      <td>0</td>\n",
              "      <td>1</td>\n",
              "      <td>228.69</td>\n",
              "      <td>36.6</td>\n",
              "      <td>1</td>\n",
              "      <td>0</td>\n",
              "      <td>1</td>\n",
              "      <td>0</td>\n",
              "      <td>0</td>\n",
              "      <td>1</td>\n",
              "      <td>0</td>\n",
              "      <td>0</td>\n",
              "      <td>1</td>\n",
              "      <td>0</td>\n",
              "      <td>0</td>\n",
              "      <td>0</td>\n",
              "      <td>1</td>\n",
              "      <td>0</td>\n",
              "      <td>1</td>\n",
              "      <td>0</td>\n",
              "      <td>0</td>\n",
              "    </tr>\n",
              "    <tr>\n",
              "      <th>1</th>\n",
              "      <td>61.0</td>\n",
              "      <td>0</td>\n",
              "      <td>0</td>\n",
              "      <td>202.21</td>\n",
              "      <td>NaN</td>\n",
              "      <td>1</td>\n",
              "      <td>1</td>\n",
              "      <td>0</td>\n",
              "      <td>0</td>\n",
              "      <td>0</td>\n",
              "      <td>1</td>\n",
              "      <td>0</td>\n",
              "      <td>0</td>\n",
              "      <td>0</td>\n",
              "      <td>1</td>\n",
              "      <td>0</td>\n",
              "      <td>1</td>\n",
              "      <td>0</td>\n",
              "      <td>0</td>\n",
              "      <td>0</td>\n",
              "      <td>1</td>\n",
              "      <td>0</td>\n",
              "    </tr>\n",
              "    <tr>\n",
              "      <th>2</th>\n",
              "      <td>80.0</td>\n",
              "      <td>0</td>\n",
              "      <td>1</td>\n",
              "      <td>105.92</td>\n",
              "      <td>32.5</td>\n",
              "      <td>1</td>\n",
              "      <td>0</td>\n",
              "      <td>1</td>\n",
              "      <td>0</td>\n",
              "      <td>0</td>\n",
              "      <td>1</td>\n",
              "      <td>0</td>\n",
              "      <td>0</td>\n",
              "      <td>1</td>\n",
              "      <td>0</td>\n",
              "      <td>0</td>\n",
              "      <td>1</td>\n",
              "      <td>0</td>\n",
              "      <td>0</td>\n",
              "      <td>0</td>\n",
              "      <td>1</td>\n",
              "      <td>0</td>\n",
              "    </tr>\n",
              "    <tr>\n",
              "      <th>3</th>\n",
              "      <td>49.0</td>\n",
              "      <td>0</td>\n",
              "      <td>0</td>\n",
              "      <td>171.23</td>\n",
              "      <td>34.4</td>\n",
              "      <td>1</td>\n",
              "      <td>1</td>\n",
              "      <td>0</td>\n",
              "      <td>0</td>\n",
              "      <td>0</td>\n",
              "      <td>1</td>\n",
              "      <td>0</td>\n",
              "      <td>0</td>\n",
              "      <td>1</td>\n",
              "      <td>0</td>\n",
              "      <td>0</td>\n",
              "      <td>0</td>\n",
              "      <td>1</td>\n",
              "      <td>0</td>\n",
              "      <td>0</td>\n",
              "      <td>0</td>\n",
              "      <td>1</td>\n",
              "    </tr>\n",
              "    <tr>\n",
              "      <th>4</th>\n",
              "      <td>79.0</td>\n",
              "      <td>1</td>\n",
              "      <td>0</td>\n",
              "      <td>174.12</td>\n",
              "      <td>24.0</td>\n",
              "      <td>1</td>\n",
              "      <td>1</td>\n",
              "      <td>0</td>\n",
              "      <td>0</td>\n",
              "      <td>0</td>\n",
              "      <td>1</td>\n",
              "      <td>0</td>\n",
              "      <td>0</td>\n",
              "      <td>0</td>\n",
              "      <td>1</td>\n",
              "      <td>0</td>\n",
              "      <td>1</td>\n",
              "      <td>0</td>\n",
              "      <td>0</td>\n",
              "      <td>0</td>\n",
              "      <td>1</td>\n",
              "      <td>0</td>\n",
              "    </tr>\n",
              "    <tr>\n",
              "      <th>...</th>\n",
              "      <td>...</td>\n",
              "      <td>...</td>\n",
              "      <td>...</td>\n",
              "      <td>...</td>\n",
              "      <td>...</td>\n",
              "      <td>...</td>\n",
              "      <td>...</td>\n",
              "      <td>...</td>\n",
              "      <td>...</td>\n",
              "      <td>...</td>\n",
              "      <td>...</td>\n",
              "      <td>...</td>\n",
              "      <td>...</td>\n",
              "      <td>...</td>\n",
              "      <td>...</td>\n",
              "      <td>...</td>\n",
              "      <td>...</td>\n",
              "      <td>...</td>\n",
              "      <td>...</td>\n",
              "      <td>...</td>\n",
              "      <td>...</td>\n",
              "      <td>...</td>\n",
              "    </tr>\n",
              "    <tr>\n",
              "      <th>5105</th>\n",
              "      <td>80.0</td>\n",
              "      <td>1</td>\n",
              "      <td>0</td>\n",
              "      <td>83.75</td>\n",
              "      <td>NaN</td>\n",
              "      <td>0</td>\n",
              "      <td>1</td>\n",
              "      <td>0</td>\n",
              "      <td>0</td>\n",
              "      <td>0</td>\n",
              "      <td>1</td>\n",
              "      <td>0</td>\n",
              "      <td>0</td>\n",
              "      <td>1</td>\n",
              "      <td>0</td>\n",
              "      <td>0</td>\n",
              "      <td>0</td>\n",
              "      <td>1</td>\n",
              "      <td>0</td>\n",
              "      <td>0</td>\n",
              "      <td>1</td>\n",
              "      <td>0</td>\n",
              "    </tr>\n",
              "    <tr>\n",
              "      <th>5106</th>\n",
              "      <td>81.0</td>\n",
              "      <td>0</td>\n",
              "      <td>0</td>\n",
              "      <td>125.20</td>\n",
              "      <td>40.0</td>\n",
              "      <td>0</td>\n",
              "      <td>1</td>\n",
              "      <td>0</td>\n",
              "      <td>0</td>\n",
              "      <td>0</td>\n",
              "      <td>1</td>\n",
              "      <td>0</td>\n",
              "      <td>0</td>\n",
              "      <td>0</td>\n",
              "      <td>1</td>\n",
              "      <td>0</td>\n",
              "      <td>0</td>\n",
              "      <td>1</td>\n",
              "      <td>0</td>\n",
              "      <td>0</td>\n",
              "      <td>1</td>\n",
              "      <td>0</td>\n",
              "    </tr>\n",
              "    <tr>\n",
              "      <th>5107</th>\n",
              "      <td>35.0</td>\n",
              "      <td>0</td>\n",
              "      <td>0</td>\n",
              "      <td>82.99</td>\n",
              "      <td>30.6</td>\n",
              "      <td>0</td>\n",
              "      <td>1</td>\n",
              "      <td>0</td>\n",
              "      <td>0</td>\n",
              "      <td>0</td>\n",
              "      <td>1</td>\n",
              "      <td>0</td>\n",
              "      <td>0</td>\n",
              "      <td>0</td>\n",
              "      <td>1</td>\n",
              "      <td>0</td>\n",
              "      <td>1</td>\n",
              "      <td>0</td>\n",
              "      <td>0</td>\n",
              "      <td>0</td>\n",
              "      <td>1</td>\n",
              "      <td>0</td>\n",
              "    </tr>\n",
              "    <tr>\n",
              "      <th>5108</th>\n",
              "      <td>51.0</td>\n",
              "      <td>0</td>\n",
              "      <td>0</td>\n",
              "      <td>166.29</td>\n",
              "      <td>25.6</td>\n",
              "      <td>0</td>\n",
              "      <td>0</td>\n",
              "      <td>1</td>\n",
              "      <td>0</td>\n",
              "      <td>0</td>\n",
              "      <td>1</td>\n",
              "      <td>0</td>\n",
              "      <td>0</td>\n",
              "      <td>1</td>\n",
              "      <td>0</td>\n",
              "      <td>0</td>\n",
              "      <td>1</td>\n",
              "      <td>0</td>\n",
              "      <td>0</td>\n",
              "      <td>1</td>\n",
              "      <td>0</td>\n",
              "      <td>0</td>\n",
              "    </tr>\n",
              "    <tr>\n",
              "      <th>5109</th>\n",
              "      <td>44.0</td>\n",
              "      <td>0</td>\n",
              "      <td>0</td>\n",
              "      <td>85.28</td>\n",
              "      <td>26.2</td>\n",
              "      <td>0</td>\n",
              "      <td>1</td>\n",
              "      <td>0</td>\n",
              "      <td>0</td>\n",
              "      <td>0</td>\n",
              "      <td>1</td>\n",
              "      <td>1</td>\n",
              "      <td>0</td>\n",
              "      <td>0</td>\n",
              "      <td>0</td>\n",
              "      <td>0</td>\n",
              "      <td>0</td>\n",
              "      <td>1</td>\n",
              "      <td>1</td>\n",
              "      <td>0</td>\n",
              "      <td>0</td>\n",
              "      <td>0</td>\n",
              "    </tr>\n",
              "  </tbody>\n",
              "</table>\n",
              "<p>5110 rows × 22 columns</p>\n",
              "</div>"
            ],
            "text/plain": [
              "       age  hypertension  heart_disease  ...  formerly smoked  never smoked  smokes\n",
              "0     67.0             0              1  ...                1             0       0\n",
              "1     61.0             0              0  ...                0             1       0\n",
              "2     80.0             0              1  ...                0             1       0\n",
              "3     49.0             0              0  ...                0             0       1\n",
              "4     79.0             1              0  ...                0             1       0\n",
              "...    ...           ...            ...  ...              ...           ...     ...\n",
              "5105  80.0             1              0  ...                0             1       0\n",
              "5106  81.0             0              0  ...                0             1       0\n",
              "5107  35.0             0              0  ...                0             1       0\n",
              "5108  51.0             0              0  ...                1             0       0\n",
              "5109  44.0             0              0  ...                0             0       0\n",
              "\n",
              "[5110 rows x 22 columns]"
            ]
          },
          "metadata": {
            "tags": []
          },
          "execution_count": 22
        }
      ]
    },
    {
      "cell_type": "markdown",
      "metadata": {
        "id": "ecfxq8UJGsRO"
      },
      "source": [
        "* in gender feature, there is one sample with 'Other' value, i think dont need that value so i am gonna delete this sample"
      ]
    },
    {
      "cell_type": "code",
      "metadata": {
        "colab": {
          "base_uri": "https://localhost:8080/",
          "height": 117
        },
        "id": "85wSWCnHGAJn",
        "outputId": "f58f7ac3-eb07-4dac-f93f-33ba962959c2"
      },
      "source": [
        "dataframe[dataframe['Other']==1]"
      ],
      "execution_count": 23,
      "outputs": [
        {
          "output_type": "execute_result",
          "data": {
            "text/html": [
              "<div>\n",
              "<style scoped>\n",
              "    .dataframe tbody tr th:only-of-type {\n",
              "        vertical-align: middle;\n",
              "    }\n",
              "\n",
              "    .dataframe tbody tr th {\n",
              "        vertical-align: top;\n",
              "    }\n",
              "\n",
              "    .dataframe thead th {\n",
              "        text-align: right;\n",
              "    }\n",
              "</style>\n",
              "<table border=\"1\" class=\"dataframe\">\n",
              "  <thead>\n",
              "    <tr style=\"text-align: right;\">\n",
              "      <th></th>\n",
              "      <th>age</th>\n",
              "      <th>hypertension</th>\n",
              "      <th>heart_disease</th>\n",
              "      <th>avg_glucose_level</th>\n",
              "      <th>bmi</th>\n",
              "      <th>stroke</th>\n",
              "      <th>Female</th>\n",
              "      <th>Male</th>\n",
              "      <th>Other</th>\n",
              "      <th>No</th>\n",
              "      <th>Yes</th>\n",
              "      <th>Govt_job</th>\n",
              "      <th>Never_worked</th>\n",
              "      <th>Private</th>\n",
              "      <th>Self-employed</th>\n",
              "      <th>children</th>\n",
              "      <th>Rural</th>\n",
              "      <th>Urban</th>\n",
              "      <th>Unknown</th>\n",
              "      <th>formerly smoked</th>\n",
              "      <th>never smoked</th>\n",
              "      <th>smokes</th>\n",
              "    </tr>\n",
              "  </thead>\n",
              "  <tbody>\n",
              "    <tr>\n",
              "      <th>3116</th>\n",
              "      <td>26.0</td>\n",
              "      <td>0</td>\n",
              "      <td>0</td>\n",
              "      <td>143.33</td>\n",
              "      <td>22.4</td>\n",
              "      <td>0</td>\n",
              "      <td>0</td>\n",
              "      <td>0</td>\n",
              "      <td>1</td>\n",
              "      <td>1</td>\n",
              "      <td>0</td>\n",
              "      <td>0</td>\n",
              "      <td>0</td>\n",
              "      <td>1</td>\n",
              "      <td>0</td>\n",
              "      <td>0</td>\n",
              "      <td>1</td>\n",
              "      <td>0</td>\n",
              "      <td>0</td>\n",
              "      <td>1</td>\n",
              "      <td>0</td>\n",
              "      <td>0</td>\n",
              "    </tr>\n",
              "  </tbody>\n",
              "</table>\n",
              "</div>"
            ],
            "text/plain": [
              "       age  hypertension  heart_disease  ...  formerly smoked  never smoked  smokes\n",
              "3116  26.0             0              0  ...                1             0       0\n",
              "\n",
              "[1 rows x 22 columns]"
            ]
          },
          "metadata": {
            "tags": []
          },
          "execution_count": 23
        }
      ]
    },
    {
      "cell_type": "code",
      "metadata": {
        "id": "yEX6B1ueHIXT"
      },
      "source": [
        "dataframe =dataframe.drop(3116)"
      ],
      "execution_count": 24,
      "outputs": []
    },
    {
      "cell_type": "markdown",
      "metadata": {
        "id": "zNwTV7OKHO1S"
      },
      "source": [
        "* now let's check"
      ]
    },
    {
      "cell_type": "code",
      "metadata": {
        "colab": {
          "base_uri": "https://localhost:8080/",
          "height": 86
        },
        "id": "c9yoXjFMHQ5m",
        "outputId": "9e5a9b5c-2887-41ea-bc18-1c6b0373ee4f"
      },
      "source": [
        "dataframe[dataframe['Other']==1]"
      ],
      "execution_count": 25,
      "outputs": [
        {
          "output_type": "execute_result",
          "data": {
            "text/html": [
              "<div>\n",
              "<style scoped>\n",
              "    .dataframe tbody tr th:only-of-type {\n",
              "        vertical-align: middle;\n",
              "    }\n",
              "\n",
              "    .dataframe tbody tr th {\n",
              "        vertical-align: top;\n",
              "    }\n",
              "\n",
              "    .dataframe thead th {\n",
              "        text-align: right;\n",
              "    }\n",
              "</style>\n",
              "<table border=\"1\" class=\"dataframe\">\n",
              "  <thead>\n",
              "    <tr style=\"text-align: right;\">\n",
              "      <th></th>\n",
              "      <th>age</th>\n",
              "      <th>hypertension</th>\n",
              "      <th>heart_disease</th>\n",
              "      <th>avg_glucose_level</th>\n",
              "      <th>bmi</th>\n",
              "      <th>stroke</th>\n",
              "      <th>Female</th>\n",
              "      <th>Male</th>\n",
              "      <th>Other</th>\n",
              "      <th>No</th>\n",
              "      <th>Yes</th>\n",
              "      <th>Govt_job</th>\n",
              "      <th>Never_worked</th>\n",
              "      <th>Private</th>\n",
              "      <th>Self-employed</th>\n",
              "      <th>children</th>\n",
              "      <th>Rural</th>\n",
              "      <th>Urban</th>\n",
              "      <th>Unknown</th>\n",
              "      <th>formerly smoked</th>\n",
              "      <th>never smoked</th>\n",
              "      <th>smokes</th>\n",
              "    </tr>\n",
              "  </thead>\n",
              "  <tbody>\n",
              "  </tbody>\n",
              "</table>\n",
              "</div>"
            ],
            "text/plain": [
              "Empty DataFrame\n",
              "Columns: [age, hypertension, heart_disease, avg_glucose_level, bmi, stroke, Female, Male, Other, No, Yes, Govt_job, Never_worked, Private, Self-employed, children, Rural, Urban, Unknown, formerly smoked, never smoked, smokes]\n",
              "Index: []"
            ]
          },
          "metadata": {
            "tags": []
          },
          "execution_count": 25
        }
      ]
    },
    {
      "cell_type": "markdown",
      "metadata": {
        "id": "XAVntMi7HZeG"
      },
      "source": [
        "* perfect, now i can drop 'Other' column, i dont need that"
      ]
    },
    {
      "cell_type": "code",
      "metadata": {
        "id": "Gqq11gu9HfV9"
      },
      "source": [
        "dataframe= dataframe.drop(columns='Other')"
      ],
      "execution_count": 26,
      "outputs": []
    },
    {
      "cell_type": "code",
      "metadata": {
        "colab": {
          "base_uri": "https://localhost:8080/",
          "height": 241
        },
        "id": "kl2odAOBHlQW",
        "outputId": "aacfa676-b132-4c02-db29-fe34ee1fa769"
      },
      "source": [
        "dataframe.head()"
      ],
      "execution_count": 27,
      "outputs": [
        {
          "output_type": "execute_result",
          "data": {
            "text/html": [
              "<div>\n",
              "<style scoped>\n",
              "    .dataframe tbody tr th:only-of-type {\n",
              "        vertical-align: middle;\n",
              "    }\n",
              "\n",
              "    .dataframe tbody tr th {\n",
              "        vertical-align: top;\n",
              "    }\n",
              "\n",
              "    .dataframe thead th {\n",
              "        text-align: right;\n",
              "    }\n",
              "</style>\n",
              "<table border=\"1\" class=\"dataframe\">\n",
              "  <thead>\n",
              "    <tr style=\"text-align: right;\">\n",
              "      <th></th>\n",
              "      <th>age</th>\n",
              "      <th>hypertension</th>\n",
              "      <th>heart_disease</th>\n",
              "      <th>avg_glucose_level</th>\n",
              "      <th>bmi</th>\n",
              "      <th>stroke</th>\n",
              "      <th>Female</th>\n",
              "      <th>Male</th>\n",
              "      <th>No</th>\n",
              "      <th>Yes</th>\n",
              "      <th>Govt_job</th>\n",
              "      <th>Never_worked</th>\n",
              "      <th>Private</th>\n",
              "      <th>Self-employed</th>\n",
              "      <th>children</th>\n",
              "      <th>Rural</th>\n",
              "      <th>Urban</th>\n",
              "      <th>Unknown</th>\n",
              "      <th>formerly smoked</th>\n",
              "      <th>never smoked</th>\n",
              "      <th>smokes</th>\n",
              "    </tr>\n",
              "  </thead>\n",
              "  <tbody>\n",
              "    <tr>\n",
              "      <th>0</th>\n",
              "      <td>67.0</td>\n",
              "      <td>0</td>\n",
              "      <td>1</td>\n",
              "      <td>228.69</td>\n",
              "      <td>36.6</td>\n",
              "      <td>1</td>\n",
              "      <td>0</td>\n",
              "      <td>1</td>\n",
              "      <td>0</td>\n",
              "      <td>1</td>\n",
              "      <td>0</td>\n",
              "      <td>0</td>\n",
              "      <td>1</td>\n",
              "      <td>0</td>\n",
              "      <td>0</td>\n",
              "      <td>0</td>\n",
              "      <td>1</td>\n",
              "      <td>0</td>\n",
              "      <td>1</td>\n",
              "      <td>0</td>\n",
              "      <td>0</td>\n",
              "    </tr>\n",
              "    <tr>\n",
              "      <th>1</th>\n",
              "      <td>61.0</td>\n",
              "      <td>0</td>\n",
              "      <td>0</td>\n",
              "      <td>202.21</td>\n",
              "      <td>NaN</td>\n",
              "      <td>1</td>\n",
              "      <td>1</td>\n",
              "      <td>0</td>\n",
              "      <td>0</td>\n",
              "      <td>1</td>\n",
              "      <td>0</td>\n",
              "      <td>0</td>\n",
              "      <td>0</td>\n",
              "      <td>1</td>\n",
              "      <td>0</td>\n",
              "      <td>1</td>\n",
              "      <td>0</td>\n",
              "      <td>0</td>\n",
              "      <td>0</td>\n",
              "      <td>1</td>\n",
              "      <td>0</td>\n",
              "    </tr>\n",
              "    <tr>\n",
              "      <th>2</th>\n",
              "      <td>80.0</td>\n",
              "      <td>0</td>\n",
              "      <td>1</td>\n",
              "      <td>105.92</td>\n",
              "      <td>32.5</td>\n",
              "      <td>1</td>\n",
              "      <td>0</td>\n",
              "      <td>1</td>\n",
              "      <td>0</td>\n",
              "      <td>1</td>\n",
              "      <td>0</td>\n",
              "      <td>0</td>\n",
              "      <td>1</td>\n",
              "      <td>0</td>\n",
              "      <td>0</td>\n",
              "      <td>1</td>\n",
              "      <td>0</td>\n",
              "      <td>0</td>\n",
              "      <td>0</td>\n",
              "      <td>1</td>\n",
              "      <td>0</td>\n",
              "    </tr>\n",
              "    <tr>\n",
              "      <th>3</th>\n",
              "      <td>49.0</td>\n",
              "      <td>0</td>\n",
              "      <td>0</td>\n",
              "      <td>171.23</td>\n",
              "      <td>34.4</td>\n",
              "      <td>1</td>\n",
              "      <td>1</td>\n",
              "      <td>0</td>\n",
              "      <td>0</td>\n",
              "      <td>1</td>\n",
              "      <td>0</td>\n",
              "      <td>0</td>\n",
              "      <td>1</td>\n",
              "      <td>0</td>\n",
              "      <td>0</td>\n",
              "      <td>0</td>\n",
              "      <td>1</td>\n",
              "      <td>0</td>\n",
              "      <td>0</td>\n",
              "      <td>0</td>\n",
              "      <td>1</td>\n",
              "    </tr>\n",
              "    <tr>\n",
              "      <th>4</th>\n",
              "      <td>79.0</td>\n",
              "      <td>1</td>\n",
              "      <td>0</td>\n",
              "      <td>174.12</td>\n",
              "      <td>24.0</td>\n",
              "      <td>1</td>\n",
              "      <td>1</td>\n",
              "      <td>0</td>\n",
              "      <td>0</td>\n",
              "      <td>1</td>\n",
              "      <td>0</td>\n",
              "      <td>0</td>\n",
              "      <td>0</td>\n",
              "      <td>1</td>\n",
              "      <td>0</td>\n",
              "      <td>1</td>\n",
              "      <td>0</td>\n",
              "      <td>0</td>\n",
              "      <td>0</td>\n",
              "      <td>1</td>\n",
              "      <td>0</td>\n",
              "    </tr>\n",
              "  </tbody>\n",
              "</table>\n",
              "</div>"
            ],
            "text/plain": [
              "    age  hypertension  heart_disease  ...  formerly smoked  never smoked  smokes\n",
              "0  67.0             0              1  ...                1             0       0\n",
              "1  61.0             0              0  ...                0             1       0\n",
              "2  80.0             0              1  ...                0             1       0\n",
              "3  49.0             0              0  ...                0             0       1\n",
              "4  79.0             1              0  ...                0             1       0\n",
              "\n",
              "[5 rows x 21 columns]"
            ]
          },
          "metadata": {
            "tags": []
          },
          "execution_count": 27
        }
      ]
    },
    {
      "cell_type": "markdown",
      "metadata": {
        "id": "bE2i9ymaLw-v"
      },
      "source": [
        "## *Checking for null values*"
      ]
    },
    {
      "cell_type": "markdown",
      "metadata": {
        "id": "CHCLOJEyH8zg"
      },
      "source": [
        "* before split data, i wanna if there are null values"
      ]
    },
    {
      "cell_type": "code",
      "metadata": {
        "colab": {
          "base_uri": "https://localhost:8080/"
        },
        "id": "-HaAuwAuJ0Mp",
        "outputId": "dd70845c-bb3b-4c95-ab13-35a6793d0663"
      },
      "source": [
        "dataframe.isnull().values.any(), dataframe.isnull().sum().sum()"
      ],
      "execution_count": 29,
      "outputs": [
        {
          "output_type": "execute_result",
          "data": {
            "text/plain": [
              "(True, 201)"
            ]
          },
          "metadata": {
            "tags": []
          },
          "execution_count": 29
        }
      ]
    },
    {
      "cell_type": "markdown",
      "metadata": {
        "id": "EePI0HtoLDlC"
      },
      "source": [
        "* looks like there are 201 null values in the dataset, lets look which columns has null value"
      ]
    },
    {
      "cell_type": "code",
      "metadata": {
        "colab": {
          "base_uri": "https://localhost:8080/"
        },
        "id": "_jTZcQ7gIDb5",
        "outputId": "e19e7db9-af52-42a5-eba5-d5ad9327912f"
      },
      "source": [
        "count_nan=dataframe.isnull().sum()\n",
        "print(count_nan)"
      ],
      "execution_count": null,
      "outputs": [
        {
          "output_type": "stream",
          "text": [
            "age                    0\n",
            "hypertension           0\n",
            "heart_disease          0\n",
            "avg_glucose_level      0\n",
            "bmi                  201\n",
            "stroke                 0\n",
            "Female                 0\n",
            "Male                   0\n",
            "No                     0\n",
            "Yes                    0\n",
            "Govt_job               0\n",
            "Never_worked           0\n",
            "Private                0\n",
            "Self-employed          0\n",
            "children               0\n",
            "Rural                  0\n",
            "Urban                  0\n",
            "Unknown                0\n",
            "formerly smoked        0\n",
            "never smoked           0\n",
            "smokes                 0\n",
            "dtype: int64\n"
          ],
          "name": "stdout"
        }
      ]
    },
    {
      "cell_type": "code",
      "metadata": {
        "colab": {
          "base_uri": "https://localhost:8080/"
        },
        "id": "MitVR27PLc08",
        "outputId": "652b6e21-2128-40a3-8505-d1f4575b67b9"
      },
      "source": [
        "dataframe['bmi'].isnull().sum()"
      ],
      "execution_count": 30,
      "outputs": [
        {
          "output_type": "execute_result",
          "data": {
            "text/plain": [
              "201"
            ]
          },
          "metadata": {
            "tags": []
          },
          "execution_count": 30
        }
      ]
    },
    {
      "cell_type": "markdown",
      "metadata": {
        "id": "3LLCGrWjMDHe"
      },
      "source": [
        "* I am dropping nan values, now we have 5110-201 sample"
      ]
    },
    {
      "cell_type": "code",
      "metadata": {
        "id": "stl6kkD_NFGM"
      },
      "source": [
        "dataframe.dropna(subset=['bmi'],\n",
        "                 inplace=True)"
      ],
      "execution_count": 34,
      "outputs": []
    },
    {
      "cell_type": "code",
      "metadata": {
        "colab": {
          "base_uri": "https://localhost:8080/"
        },
        "id": "dJBwCyIAMQxM",
        "outputId": "d2b30424-de9e-4dc1-8e59-377dd987799b"
      },
      "source": [
        "dataframe.isnull().values.any()"
      ],
      "execution_count": 36,
      "outputs": [
        {
          "output_type": "execute_result",
          "data": {
            "text/plain": [
              "False"
            ]
          },
          "metadata": {
            "tags": []
          },
          "execution_count": 36
        }
      ]
    },
    {
      "cell_type": "code",
      "metadata": {
        "colab": {
          "base_uri": "https://localhost:8080/"
        },
        "id": "ktraq0A2MCO-",
        "outputId": "64894c13-47d6-492f-b4fb-1d9c4bc452a4"
      },
      "source": [
        "dataframe.shape"
      ],
      "execution_count": 37,
      "outputs": [
        {
          "output_type": "execute_result",
          "data": {
            "text/plain": [
              "(4908, 21)"
            ]
          },
          "metadata": {
            "tags": []
          },
          "execution_count": 37
        }
      ]
    },
    {
      "cell_type": "markdown",
      "metadata": {
        "id": "3um7E9CCTpkq"
      },
      "source": [
        "## *Heatmap*"
      ]
    },
    {
      "cell_type": "markdown",
      "metadata": {
        "id": "Ay7i6NiYP5SO"
      },
      "source": [
        "* i wanna check on colleration between feature using heatmap"
      ]
    },
    {
      "cell_type": "code",
      "metadata": {
        "colab": {
          "base_uri": "https://localhost:8080/",
          "height": 1000
        },
        "id": "c5FPBdMPPTPb",
        "outputId": "36672d81-8979-42c8-8ffb-b9fefe6ec5df"
      },
      "source": [
        "import seaborn as sns\n",
        "fig, ax=plt.subplots(figsize=(20,20))\n",
        "sns.heatmap(dataframe.corr(),\n",
        "            annot=True,\n",
        "            linewidth=.5,\n",
        "            ax=ax)\n",
        "fig.show()"
      ],
      "execution_count": 44,
      "outputs": [
        {
          "output_type": "display_data",
          "data": {
            "image/png": "[encoded data removed]",
            "text/plain": [
              "<Figure size 1440x1440 with 2 Axes>"
            ]
          },
          "metadata": {
            "tags": []
          }
        }
      ]
    },
    {
      "cell_type": "markdown",
      "metadata": {
        "id": "GLvmamlEQGe4"
      },
      "source": [
        "## Splitting data as train and test dataset"
      ]
    },
    {
      "cell_type": "markdown",
      "metadata": {
        "id": "VQ8iZCgfRnna"
      },
      "source": [
        "* first, i will split target and data"
      ]
    },
    {
      "cell_type": "code",
      "metadata": {
        "id": "sdbZ1Tx8QP5W"
      },
      "source": [
        "y=dataframe['stroke']"
      ],
      "execution_count": 50,
      "outputs": []
    },
    {
      "cell_type": "code",
      "metadata": {
        "colab": {
          "base_uri": "https://localhost:8080/"
        },
        "id": "wkmTC_moRTbg",
        "outputId": "a50a75fb-a9b8-4288-8e2d-37bcbc059f3f"
      },
      "source": [
        "y.shape"
      ],
      "execution_count": 58,
      "outputs": [
        {
          "output_type": "execute_result",
          "data": {
            "text/plain": [
              "(4908,)"
            ]
          },
          "metadata": {
            "tags": []
          },
          "execution_count": 58
        }
      ]
    },
    {
      "cell_type": "code",
      "metadata": {
        "colab": {
          "base_uri": "https://localhost:8080/"
        },
        "id": "w7IMjqdQ4LWG",
        "outputId": "54419551-e4cb-40ee-98ff-6705fd834338"
      },
      "source": [
        "y[y==1]"
      ],
      "execution_count": 260,
      "outputs": [
        {
          "output_type": "execute_result",
          "data": {
            "text/plain": [
              "0      1\n",
              "2      1\n",
              "3      1\n",
              "4      1\n",
              "5      1\n",
              "      ..\n",
              "243    1\n",
              "244    1\n",
              "245    1\n",
              "246    1\n",
              "248    1\n",
              "Name: stroke, Length: 209, dtype: int64"
            ]
          },
          "metadata": {
            "tags": []
          },
          "execution_count": 260
        }
      ]
    },
    {
      "cell_type": "code",
      "metadata": {
        "id": "He5BXSwwRKCZ"
      },
      "source": [
        "x=dataframe.drop(columns='stroke')"
      ],
      "execution_count": 51,
      "outputs": []
    },
    {
      "cell_type": "code",
      "metadata": {
        "colab": {
          "base_uri": "https://localhost:8080/"
        },
        "id": "d_xccSW6RWGL",
        "outputId": "1f582305-bca8-4f3c-e7d1-dbd9e0587db0"
      },
      "source": [
        "x.columns, x.shape"
      ],
      "execution_count": 59,
      "outputs": [
        {
          "output_type": "execute_result",
          "data": {
            "text/plain": [
              "(Index(['age', 'hypertension', 'heart_disease', 'avg_glucose_level', 'bmi',\n",
              "        'Female', 'Male', 'No', 'Yes', 'Govt_job', 'Never_worked', 'Private',\n",
              "        'Self-employed', 'children', 'Rural', 'Urban', 'Unknown',\n",
              "        'formerly smoked', 'never smoked', 'smokes'],\n",
              "       dtype='object'), (4908, 20))"
            ]
          },
          "metadata": {
            "tags": []
          },
          "execution_count": 59
        }
      ]
    },
    {
      "cell_type": "markdown",
      "metadata": {
        "id": "LTnOMtMNRs1v"
      },
      "source": [
        "* i am going to split dataset using 'train_test_split' from sklearn"
      ]
    },
    {
      "cell_type": "code",
      "metadata": {
        "id": "EEvxqR-fQjbe"
      },
      "source": [
        "from sklearn.model_selection import train_test_split\n",
        "\n",
        "x_train, x_test, y_train, y_test = train_test_split(x, y, test_size=0.2, random_state=123)"
      ],
      "execution_count": 61,
      "outputs": []
    },
    {
      "cell_type": "code",
      "metadata": {
        "colab": {
          "base_uri": "https://localhost:8080/"
        },
        "id": "xJ7b8AfcSeq0",
        "outputId": "101a43d8-db03-4456-ff91-1c25d1da9b45"
      },
      "source": [
        "x_train.shape, x_test.shape, y_train.shape, y_test.shape"
      ],
      "execution_count": 66,
      "outputs": [
        {
          "output_type": "execute_result",
          "data": {
            "text/plain": [
              "((3926, 20), (982, 20), (3926,), (982,))"
            ]
          },
          "metadata": {
            "tags": []
          },
          "execution_count": 66
        }
      ]
    },
    {
      "cell_type": "markdown",
      "metadata": {
        "id": "04O7mR1JvdzF"
      },
      "source": [
        "# 7.Build Model 1"
      ]
    },
    {
      "cell_type": "markdown",
      "metadata": {
        "id": "EUoiwuD2TI8h"
      },
      "source": [
        "## *Import libraries*"
      ]
    },
    {
      "cell_type": "code",
      "metadata": {
        "id": "HuzcH97QviCX"
      },
      "source": [
        "import tensorflow as tf\n",
        "from tensorflow import keras\n",
        "from keras.models import Sequential\n",
        "from keras.layers import Dense,Dropout,Softmax,MaxPool2D"
      ],
      "execution_count": 67,
      "outputs": []
    },
    {
      "cell_type": "markdown",
      "metadata": {
        "id": "xeGYpPLYTQzP"
      },
      "source": [
        "## *Creating models*"
      ]
    },
    {
      "cell_type": "code",
      "metadata": {
        "id": "q9QAkodGvxSi"
      },
      "source": [
        "model=Sequential()"
      ],
      "execution_count": 288,
      "outputs": []
    },
    {
      "cell_type": "markdown",
      "metadata": {
        "id": "lAtsms0GTj6v"
      },
      "source": [
        "## *Adding Layers*"
      ]
    },
    {
      "cell_type": "code",
      "metadata": {
        "id": "H-80SSs0TjQX"
      },
      "source": [
        "input_size=x_train.shape[1]\n",
        "model.add(Dense(units=100,\n",
        "                activation='relu',              \n",
        "                input_shape=[input_size,]))"
      ],
      "execution_count": 289,
      "outputs": []
    },
    {
      "cell_type": "code",
      "metadata": {
        "id": "JOkn8E4h69XB"
      },
      "source": [
        "model.add(Dropout(0.2))"
      ],
      "execution_count": 290,
      "outputs": []
    },
    {
      "cell_type": "code",
      "metadata": {
        "id": "fGDnd97SWr4_"
      },
      "source": [
        "model.add(Dense(units=1,\n",
        "                activation='sigmoid'))"
      ],
      "execution_count": 291,
      "outputs": []
    },
    {
      "cell_type": "code",
      "metadata": {
        "colab": {
          "base_uri": "https://localhost:8080/"
        },
        "id": "azCvbhHeVTYZ",
        "outputId": "c250a195-191a-4e1e-f093-2d64f9eca3d7"
      },
      "source": [
        "model.summary()"
      ],
      "execution_count": 292,
      "outputs": [
        {
          "output_type": "stream",
          "text": [
            "Model: \"sequential_16\"\n",
            "_________________________________________________________________\n",
            "Layer (type)                 Output Shape              Param #   \n",
            "=================================================================\n",
            "dense_84 (Dense)             (None, 100)               2100      \n",
            "_________________________________________________________________\n",
            "dropout_19 (Dropout)         (None, 100)               0         \n",
            "_________________________________________________________________\n",
            "dense_85 (Dense)             (None, 1)                 101       \n",
            "=================================================================\n",
            "Total params: 2,201\n",
            "Trainable params: 2,201\n",
            "Non-trainable params: 0\n",
            "_________________________________________________________________\n"
          ],
          "name": "stdout"
        }
      ]
    },
    {
      "cell_type": "markdown",
      "metadata": {
        "id": "lnc6MYDPW6K_"
      },
      "source": [
        "## *Compile Model*"
      ]
    },
    {
      "cell_type": "code",
      "metadata": {
        "id": "EhTyaO7wW8-K"
      },
      "source": [
        "model.compile(optimizer='adam',\n",
        "              loss='binary_crossentropy',\n",
        "              metrics='accuracy')"
      ],
      "execution_count": 293,
      "outputs": []
    },
    {
      "cell_type": "markdown",
      "metadata": {
        "id": "tfax3FIrUAGy"
      },
      "source": [
        "## *Train Model*"
      ]
    },
    {
      "cell_type": "code",
      "metadata": {
        "colab": {
          "base_uri": "https://localhost:8080/"
        },
        "id": "VzFo70CzUDdD",
        "outputId": "d6d46442-3798-4b2c-8e7f-0862e525c30f"
      },
      "source": [
        "model.fit(x_train,\n",
        "          y_train,\n",
        "          batch_size=16,\n",
        "          epochs=100)"
      ],
      "execution_count": 294,
      "outputs": [
        {
          "output_type": "stream",
          "text": [
            "Epoch 1/100\n",
            "246/246 [==============================] - 1s 1ms/step - loss: 0.9010 - accuracy: 0.8984\n",
            "Epoch 2/100\n",
            "246/246 [==============================] - 0s 1ms/step - loss: 0.6515 - accuracy: 0.9129\n",
            "Epoch 3/100\n",
            "246/246 [==============================] - 0s 1ms/step - loss: 0.3908 - accuracy: 0.9317\n",
            "Epoch 4/100\n",
            "246/246 [==============================] - 0s 1ms/step - loss: 0.2878 - accuracy: 0.9443\n",
            "Epoch 5/100\n",
            "246/246 [==============================] - 0s 1ms/step - loss: 0.2606 - accuracy: 0.9322\n",
            "Epoch 6/100\n",
            "246/246 [==============================] - 0s 1ms/step - loss: 0.2057 - accuracy: 0.9457\n",
            "Epoch 7/100\n",
            "246/246 [==============================] - 0s 1ms/step - loss: 0.1637 - accuracy: 0.9599\n",
            "Epoch 8/100\n",
            "246/246 [==============================] - 0s 1ms/step - loss: 0.1701 - accuracy: 0.9550\n",
            "Epoch 9/100\n",
            "246/246 [==============================] - 0s 1ms/step - loss: 0.1821 - accuracy: 0.9514\n",
            "Epoch 10/100\n",
            "246/246 [==============================] - 0s 1ms/step - loss: 0.1907 - accuracy: 0.9478\n",
            "Epoch 11/100\n",
            "246/246 [==============================] - 0s 1ms/step - loss: 0.1906 - accuracy: 0.9482\n",
            "Epoch 12/100\n",
            "246/246 [==============================] - 0s 1ms/step - loss: 0.1613 - accuracy: 0.9578\n",
            "Epoch 13/100\n",
            "246/246 [==============================] - 0s 1ms/step - loss: 0.1664 - accuracy: 0.9547\n",
            "Epoch 14/100\n",
            "246/246 [==============================] - 0s 1ms/step - loss: 0.1669 - accuracy: 0.9547\n",
            "Epoch 15/100\n",
            "246/246 [==============================] - 0s 1ms/step - loss: 0.1620 - accuracy: 0.9567\n",
            "Epoch 16/100\n",
            "246/246 [==============================] - 0s 1ms/step - loss: 0.1572 - accuracy: 0.9554\n",
            "Epoch 17/100\n",
            "246/246 [==============================] - 0s 1ms/step - loss: 0.1576 - accuracy: 0.9583\n",
            "Epoch 18/100\n",
            "246/246 [==============================] - 0s 1ms/step - loss: 0.1671 - accuracy: 0.9543\n",
            "Epoch 19/100\n",
            "246/246 [==============================] - 0s 1ms/step - loss: 0.1477 - accuracy: 0.9608\n",
            "Epoch 20/100\n",
            "246/246 [==============================] - 0s 1ms/step - loss: 0.1754 - accuracy: 0.9521\n",
            "Epoch 21/100\n",
            "246/246 [==============================] - 0s 1ms/step - loss: 0.1509 - accuracy: 0.9580\n",
            "Epoch 22/100\n",
            "246/246 [==============================] - 0s 1ms/step - loss: 0.1623 - accuracy: 0.9550\n",
            "Epoch 23/100\n",
            "246/246 [==============================] - 0s 1ms/step - loss: 0.1607 - accuracy: 0.9538\n",
            "Epoch 24/100\n",
            "246/246 [==============================] - 0s 1ms/step - loss: 0.1679 - accuracy: 0.9520\n",
            "Epoch 25/100\n",
            "246/246 [==============================] - 0s 1ms/step - loss: 0.1455 - accuracy: 0.9599\n",
            "Epoch 26/100\n",
            "246/246 [==============================] - 0s 1ms/step - loss: 0.1489 - accuracy: 0.9585\n",
            "Epoch 27/100\n",
            "246/246 [==============================] - 0s 1ms/step - loss: 0.1627 - accuracy: 0.9544\n",
            "Epoch 28/100\n",
            "246/246 [==============================] - 0s 1ms/step - loss: 0.1576 - accuracy: 0.9545\n",
            "Epoch 29/100\n",
            "246/246 [==============================] - 0s 1ms/step - loss: 0.1581 - accuracy: 0.9540\n",
            "Epoch 30/100\n",
            "246/246 [==============================] - 0s 1ms/step - loss: 0.1568 - accuracy: 0.9520\n",
            "Epoch 31/100\n",
            "246/246 [==============================] - 0s 1ms/step - loss: 0.1771 - accuracy: 0.9512\n",
            "Epoch 32/100\n",
            "246/246 [==============================] - 0s 1ms/step - loss: 0.1398 - accuracy: 0.9635\n",
            "Epoch 33/100\n",
            "246/246 [==============================] - 0s 1ms/step - loss: 0.1382 - accuracy: 0.9607\n",
            "Epoch 34/100\n",
            "246/246 [==============================] - 0s 1ms/step - loss: 0.1447 - accuracy: 0.9574\n",
            "Epoch 35/100\n",
            "246/246 [==============================] - 0s 1ms/step - loss: 0.1642 - accuracy: 0.9531\n",
            "Epoch 36/100\n",
            "246/246 [==============================] - 0s 1ms/step - loss: 0.1491 - accuracy: 0.9556\n",
            "Epoch 37/100\n",
            "246/246 [==============================] - 0s 1ms/step - loss: 0.1278 - accuracy: 0.9660\n",
            "Epoch 38/100\n",
            "246/246 [==============================] - 0s 1ms/step - loss: 0.1557 - accuracy: 0.9520\n",
            "Epoch 39/100\n",
            "246/246 [==============================] - 0s 1ms/step - loss: 0.1532 - accuracy: 0.9558\n",
            "Epoch 40/100\n",
            "246/246 [==============================] - 0s 1ms/step - loss: 0.1289 - accuracy: 0.9639\n",
            "Epoch 41/100\n",
            "246/246 [==============================] - 0s 1ms/step - loss: 0.1480 - accuracy: 0.9585\n",
            "Epoch 42/100\n",
            "246/246 [==============================] - 0s 1ms/step - loss: 0.1593 - accuracy: 0.9547\n",
            "Epoch 43/100\n",
            "246/246 [==============================] - 0s 1ms/step - loss: 0.1350 - accuracy: 0.9636\n",
            "Epoch 44/100\n",
            "246/246 [==============================] - 0s 1ms/step - loss: 0.1443 - accuracy: 0.9561\n",
            "Epoch 45/100\n",
            "246/246 [==============================] - 0s 1ms/step - loss: 0.1417 - accuracy: 0.9594\n",
            "Epoch 46/100\n",
            "246/246 [==============================] - 0s 1ms/step - loss: 0.1386 - accuracy: 0.9585\n",
            "Epoch 47/100\n",
            "246/246 [==============================] - 0s 1ms/step - loss: 0.1459 - accuracy: 0.9571\n",
            "Epoch 48/100\n",
            "246/246 [==============================] - 0s 1ms/step - loss: 0.1519 - accuracy: 0.9545\n",
            "Epoch 49/100\n",
            "246/246 [==============================] - 0s 1ms/step - loss: 0.1448 - accuracy: 0.9560\n",
            "Epoch 50/100\n",
            "246/246 [==============================] - 0s 1ms/step - loss: 0.1404 - accuracy: 0.9595\n",
            "Epoch 51/100\n",
            "246/246 [==============================] - 0s 1ms/step - loss: 0.1588 - accuracy: 0.9538\n",
            "Epoch 52/100\n",
            "246/246 [==============================] - 0s 1ms/step - loss: 0.1488 - accuracy: 0.9545\n",
            "Epoch 53/100\n",
            "246/246 [==============================] - 0s 1ms/step - loss: 0.1411 - accuracy: 0.9575\n",
            "Epoch 54/100\n",
            "246/246 [==============================] - 0s 1ms/step - loss: 0.1467 - accuracy: 0.9565\n",
            "Epoch 55/100\n",
            "246/246 [==============================] - 0s 1ms/step - loss: 0.1404 - accuracy: 0.9594\n",
            "Epoch 56/100\n",
            "246/246 [==============================] - 0s 1ms/step - loss: 0.1459 - accuracy: 0.9558\n",
            "Epoch 57/100\n",
            "246/246 [==============================] - 0s 1ms/step - loss: 0.1615 - accuracy: 0.9532\n",
            "Epoch 58/100\n",
            "246/246 [==============================] - 0s 1ms/step - loss: 0.1333 - accuracy: 0.9612\n",
            "Epoch 59/100\n",
            "246/246 [==============================] - 0s 1ms/step - loss: 0.1430 - accuracy: 0.9571\n",
            "Epoch 60/100\n",
            "246/246 [==============================] - 0s 1ms/step - loss: 0.1408 - accuracy: 0.9614\n",
            "Epoch 61/100\n",
            "246/246 [==============================] - 0s 1ms/step - loss: 0.1469 - accuracy: 0.9536\n",
            "Epoch 62/100\n",
            "246/246 [==============================] - 0s 1ms/step - loss: 0.1606 - accuracy: 0.9506\n",
            "Epoch 63/100\n",
            "246/246 [==============================] - 0s 1ms/step - loss: 0.1523 - accuracy: 0.9540\n",
            "Epoch 64/100\n",
            "246/246 [==============================] - 0s 1ms/step - loss: 0.1499 - accuracy: 0.9546\n",
            "Epoch 65/100\n",
            "246/246 [==============================] - 0s 1ms/step - loss: 0.1468 - accuracy: 0.9579\n",
            "Epoch 66/100\n",
            "246/246 [==============================] - 0s 1ms/step - loss: 0.1444 - accuracy: 0.9561\n",
            "Epoch 67/100\n",
            "246/246 [==============================] - 0s 1ms/step - loss: 0.1459 - accuracy: 0.9565\n",
            "Epoch 68/100\n",
            "246/246 [==============================] - 0s 1ms/step - loss: 0.1463 - accuracy: 0.9585\n",
            "Epoch 69/100\n",
            "246/246 [==============================] - 0s 1ms/step - loss: 0.1275 - accuracy: 0.9631\n",
            "Epoch 70/100\n",
            "246/246 [==============================] - 0s 1ms/step - loss: 0.1332 - accuracy: 0.9633\n",
            "Epoch 71/100\n",
            "246/246 [==============================] - 0s 1ms/step - loss: 0.1506 - accuracy: 0.9539\n",
            "Epoch 72/100\n",
            "246/246 [==============================] - 0s 1ms/step - loss: 0.1439 - accuracy: 0.9576\n",
            "Epoch 73/100\n",
            "246/246 [==============================] - 0s 1ms/step - loss: 0.1472 - accuracy: 0.9578\n",
            "Epoch 74/100\n",
            "246/246 [==============================] - 0s 1ms/step - loss: 0.1425 - accuracy: 0.9579\n",
            "Epoch 75/100\n",
            "246/246 [==============================] - 0s 1ms/step - loss: 0.1414 - accuracy: 0.9553\n",
            "Epoch 76/100\n",
            "246/246 [==============================] - 0s 1ms/step - loss: 0.1359 - accuracy: 0.9579\n",
            "Epoch 77/100\n",
            "246/246 [==============================] - 0s 1ms/step - loss: 0.1372 - accuracy: 0.9598\n",
            "Epoch 78/100\n",
            "246/246 [==============================] - 0s 1ms/step - loss: 0.1360 - accuracy: 0.9574\n",
            "Epoch 79/100\n",
            "246/246 [==============================] - 0s 1ms/step - loss: 0.1338 - accuracy: 0.9617\n",
            "Epoch 80/100\n",
            "246/246 [==============================] - 0s 1ms/step - loss: 0.1388 - accuracy: 0.9583\n",
            "Epoch 81/100\n",
            "246/246 [==============================] - 0s 1ms/step - loss: 0.1501 - accuracy: 0.9546\n",
            "Epoch 82/100\n",
            "246/246 [==============================] - 0s 1ms/step - loss: 0.1443 - accuracy: 0.9567\n",
            "Epoch 83/100\n",
            "246/246 [==============================] - 0s 1ms/step - loss: 0.1413 - accuracy: 0.9586\n",
            "Epoch 84/100\n",
            "246/246 [==============================] - 0s 1ms/step - loss: 0.1272 - accuracy: 0.9635\n",
            "Epoch 85/100\n",
            "246/246 [==============================] - 0s 1ms/step - loss: 0.1497 - accuracy: 0.9526\n",
            "Epoch 86/100\n",
            "246/246 [==============================] - 0s 1ms/step - loss: 0.1450 - accuracy: 0.9562\n",
            "Epoch 87/100\n",
            "246/246 [==============================] - 0s 1ms/step - loss: 0.1417 - accuracy: 0.9533\n",
            "Epoch 88/100\n",
            "246/246 [==============================] - 0s 1ms/step - loss: 0.1208 - accuracy: 0.9648\n",
            "Epoch 89/100\n",
            "246/246 [==============================] - 0s 1ms/step - loss: 0.1457 - accuracy: 0.9559\n",
            "Epoch 90/100\n",
            "246/246 [==============================] - 0s 1ms/step - loss: 0.1397 - accuracy: 0.9594\n",
            "Epoch 91/100\n",
            "246/246 [==============================] - 0s 1ms/step - loss: 0.1425 - accuracy: 0.9549\n",
            "Epoch 92/100\n",
            "246/246 [==============================] - 0s 1ms/step - loss: 0.1303 - accuracy: 0.9616\n",
            "Epoch 93/100\n",
            "246/246 [==============================] - 0s 1ms/step - loss: 0.1464 - accuracy: 0.9517\n",
            "Epoch 94/100\n",
            "246/246 [==============================] - 0s 1ms/step - loss: 0.1344 - accuracy: 0.9601\n",
            "Epoch 95/100\n",
            "246/246 [==============================] - 0s 1ms/step - loss: 0.1437 - accuracy: 0.9567\n",
            "Epoch 96/100\n",
            "246/246 [==============================] - 0s 1ms/step - loss: 0.1508 - accuracy: 0.9522\n",
            "Epoch 97/100\n",
            "246/246 [==============================] - 0s 1ms/step - loss: 0.1318 - accuracy: 0.9611\n",
            "Epoch 98/100\n",
            "246/246 [==============================] - 0s 1ms/step - loss: 0.1413 - accuracy: 0.9567\n",
            "Epoch 99/100\n",
            "246/246 [==============================] - 0s 1ms/step - loss: 0.1448 - accuracy: 0.9529\n",
            "Epoch 100/100\n",
            "246/246 [==============================] - 0s 1ms/step - loss: 0.1392 - accuracy: 0.9585\n"
          ],
          "name": "stdout"
        },
        {
          "output_type": "execute_result",
          "data": {
            "text/plain": [
              "<tensorflow.python.keras.callbacks.History at 0x7f12d275b590>"
            ]
          },
          "metadata": {
            "tags": []
          },
          "execution_count": 294
        }
      ]
    },
    {
      "cell_type": "markdown",
      "metadata": {
        "id": "ePEdTBevZapk"
      },
      "source": [
        "## *Test Model*"
      ]
    },
    {
      "cell_type": "code",
      "metadata": {
        "id": "gnJ3Bv_lq6fS"
      },
      "source": [
        "y_pred=model.predict(x_test).flatten()"
      ],
      "execution_count": 295,
      "outputs": []
    },
    {
      "cell_type": "code",
      "metadata": {
        "id": "VDdH0ZoTq-pM"
      },
      "source": [
        "y_pred=np.round(y_pred)"
      ],
      "execution_count": 296,
      "outputs": []
    },
    {
      "cell_type": "code",
      "metadata": {
        "colab": {
          "base_uri": "https://localhost:8080/"
        },
        "id": "HOE_2PooXRxG",
        "outputId": "b29e8428-1b7c-4882-9dc6-c652ba07f6fb"
      },
      "source": [
        "loss_value, accuracy_value= model.evaluate(x_test,y_test)"
      ],
      "execution_count": 297,
      "outputs": [
        {
          "output_type": "stream",
          "text": [
            "31/31 [==============================] - 0s 847us/step - loss: 0.1385 - accuracy: 0.9593\n"
          ],
          "name": "stdout"
        }
      ]
    },
    {
      "cell_type": "code",
      "metadata": {
        "colab": {
          "base_uri": "https://localhost:8080/"
        },
        "id": "gobuFn1YZtbv",
        "outputId": "69b6c1a5-b05a-4f9b-fa36-ececa91992a8"
      },
      "source": [
        "print(f'Accuracy of the model: {accuracy_value}')\n",
        "print(f'Loss of the model: {loss_value}')"
      ],
      "execution_count": 298,
      "outputs": [
        {
          "output_type": "stream",
          "text": [
            "Accuracy of the model: 0.9592667818069458\n",
            "Loss of the model: 0.13851512968540192\n"
          ],
          "name": "stdout"
        }
      ]
    },
    {
      "cell_type": "code",
      "metadata": {
        "colab": {
          "base_uri": "https://localhost:8080/"
        },
        "id": "R0RCJJa_qv61",
        "outputId": "f97b3b10-14fa-4b63-882c-35533b6a59da"
      },
      "source": [
        "from sklearn.metrics import confusion_matrix , classification_report\n",
        "\n",
        "print(classification_report(y_test, y_pred))"
      ],
      "execution_count": 299,
      "outputs": [
        {
          "output_type": "stream",
          "text": [
            "              precision    recall  f1-score   support\n",
            "\n",
            "           0       0.96      1.00      0.98       942\n",
            "           1       0.00      0.00      0.00        40\n",
            "\n",
            "    accuracy                           0.96       982\n",
            "   macro avg       0.48      0.50      0.49       982\n",
            "weighted avg       0.92      0.96      0.94       982\n",
            "\n"
          ],
          "name": "stdout"
        },
        {
          "output_type": "stream",
          "text": [
            "/usr/local/lib/python3.7/dist-packages/sklearn/metrics/_classification.py:1272: UndefinedMetricWarning: Precision and F-score are ill-defined and being set to 0.0 in labels with no predicted samples. Use `zero_division` parameter to control this behavior.\n",
            "  _warn_prf(average, modifier, msg_start, len(result))\n"
          ],
          "name": "stderr"
        }
      ]
    },
    {
      "cell_type": "code",
      "metadata": {
        "colab": {
          "base_uri": "https://localhost:8080/"
        },
        "id": "M2Z1EDC52cao",
        "outputId": "63157c57-0afe-46eb-91f4-35438c69b875"
      },
      "source": [
        "cf=confusion_matrix(y_test,y_pred)\n",
        "print(cf)"
      ],
      "execution_count": 300,
      "outputs": [
        {
          "output_type": "stream",
          "text": [
            "[[942   0]\n",
            " [ 40   0]]\n"
          ],
          "name": "stdout"
        }
      ]
    },
    {
      "cell_type": "markdown",
      "metadata": {
        "id": "DkkbKV5qT5f8"
      },
      "source": [
        "## *Saving Model*"
      ]
    },
    {
      "cell_type": "code",
      "metadata": {
        "id": "qkGqBe62T8XN"
      },
      "source": [
        "model.save('/content/drive/My Drive/Stroke_Prediction')"
      ],
      "execution_count": null,
      "outputs": []
    }
  ]
}